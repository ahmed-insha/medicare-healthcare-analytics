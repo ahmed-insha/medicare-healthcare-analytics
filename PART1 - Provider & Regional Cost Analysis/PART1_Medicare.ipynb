{
 "cells": [
  {
   "cell_type": "markdown",
   "id": "4f5039f5-2acd-4d57-8204-7bc535e16832",
   "metadata": {},
   "source": [
    "## Part 1: Identify providers that overcharge for certain procedures or regions where procedures are too expensive.\n",
    "    \n"
   ]
  },
  {
   "cell_type": "code",
   "execution_count": 1,
   "id": "0995f56e-1ff7-4e89-8499-f7083d4c2149",
   "metadata": {},
   "outputs": [],
   "source": [
    "import numpy as np\n",
    "import pandas as pd\n",
    "import seaborn as sns\n",
    "import matplotlib.pyplot as plt\n",
    "import pyodbc"
   ]
  },
  {
   "cell_type": "code",
   "execution_count": 2,
   "id": "155958bf",
   "metadata": {},
   "outputs": [
    {
     "name": "stdout",
     "output_type": "stream",
     "text": [
      "Connection successful!\n"
     ]
    }
   ],
   "source": [
    "# Step 1: Connect to SQL Server\n",
    "# Define connection parameters\n",
    "server = 'DESKTOP-DGDUOBT\\SQLEXPRESS'  \n",
    "database = 'MedicareAnalysis'\n",
    "username = ''  \n",
    "password = ''  \n",
    "driver = '{ODBC Driver 17 for SQL Server}'   \n",
    "\n",
    "try:\n",
    "    conn = pyodbc.connect(f'DRIVER={driver};SERVER={server};DATABASE={database};Trusted_Connection=yes')\n",
    "    print(\"Connection successful!\")\n",
    "except Exception as e:\n",
    "    print(f\"Connection failed: {e}\")"
   ]
  },
  {
   "cell_type": "code",
   "execution_count": 3,
   "id": "e5dd9c12-2953-4b1e-922c-79194c116aa2",
   "metadata": {},
   "outputs": [
    {
     "name": "stderr",
     "output_type": "stream",
     "text": [
      "C:\\Users\\HP\\AppData\\Local\\Temp\\ipykernel_9084\\1251983331.py:2: UserWarning: pandas only supports SQLAlchemy connectable (engine/connection) or database string URI or sqlite3 DBAPI2 connection. Other DBAPI2 objects are not tested. Please consider using SQLAlchemy.\n",
      "  Medicare_Charge_In = pd.read_sql_query(\"SELECT * FROM Medicare_Charge_Inpatient_DRG\", conn)\n",
      "C:\\Users\\HP\\AppData\\Local\\Temp\\ipykernel_9084\\1251983331.py:3: UserWarning: pandas only supports SQLAlchemy connectable (engine/connection) or database string URI or sqlite3 DBAPI2 connection. Other DBAPI2 objects are not tested. Please consider using SQLAlchemy.\n",
      "  Medicare_Charge_Out = pd.read_sql_query(\"SELECT * FROM Medicare_Charge_Outpatient_APC\", conn)\n",
      "C:\\Users\\HP\\AppData\\Local\\Temp\\ipykernel_9084\\1251983331.py:4: UserWarning: pandas only supports SQLAlchemy connectable (engine/connection) or database string URI or sqlite3 DBAPI2 connection. Other DBAPI2 objects are not tested. Please consider using SQLAlchemy.\n",
      "  Medicare_Provider_Charge_In = pd.read_sql_query(\"SELECT * FROM Provider_Charge_Inpatient_DRG\", conn)\n",
      "C:\\Users\\HP\\AppData\\Local\\Temp\\ipykernel_9084\\1251983331.py:5: UserWarning: pandas only supports SQLAlchemy connectable (engine/connection) or database string URI or sqlite3 DBAPI2 connection. Other DBAPI2 objects are not tested. Please consider using SQLAlchemy.\n",
      "  Medicare_Provider_Charge_Out = pd.read_sql_query(\"SELECT * FROM Provider_Charge_Outpatient_APC\", conn)\n"
     ]
    },
    {
     "name": "stdout",
     "output_type": "stream",
     "text": [
      "Data loaded successfully & connection closed.\n"
     ]
    }
   ],
   "source": [
    "# Step 2: Load data from SQL tables\n",
    "Medicare_Charge_In = pd.read_sql_query(\"SELECT * FROM Medicare_Charge_Inpatient_DRG\", conn)\n",
    "Medicare_Charge_Out = pd.read_sql_query(\"SELECT * FROM Medicare_Charge_Outpatient_APC\", conn)\n",
    "Medicare_Provider_Charge_In = pd.read_sql_query(\"SELECT * FROM Provider_Charge_Inpatient_DRG\", conn)\n",
    "Medicare_Provider_Charge_Out = pd.read_sql_query(\"SELECT * FROM Provider_Charge_Outpatient_APC\", conn)\n",
    "\n",
    "\n",
    "# Step 3: Close the connection after loading data\n",
    "conn.close()\n",
    "print(\"Data loaded successfully & connection closed.\")"
   ]
  },
  {
   "cell_type": "code",
   "execution_count": 6,
   "id": "bf91261c",
   "metadata": {},
   "outputs": [
    {
     "name": "stdout",
     "output_type": "stream",
     "text": [
      "<class 'pandas.core.frame.DataFrame'>\n",
      "RangeIndex: 163065 entries, 0 to 163064\n",
      "Data columns (total 12 columns):\n",
      " #   Column                     Non-Null Count   Dtype  \n",
      "---  ------                     --------------   -----  \n",
      " 0   DRG_Definition             163065 non-null  object \n",
      " 1   Provider_Id                163065 non-null  int64  \n",
      " 2   Provider_Name              163065 non-null  object \n",
      " 3   Provider_Street_Address    163065 non-null  object \n",
      " 4   Provider_City              163065 non-null  object \n",
      " 5   Provider_State             163065 non-null  object \n",
      " 6   Provider_Zip_Code          163065 non-null  int64  \n",
      " 7   Hospital_Referral_Region   163065 non-null  object \n",
      " 8   Total_Discharges           163065 non-null  int64  \n",
      " 9   Average_Covered_Charges    163065 non-null  float64\n",
      " 10  Average_Total_Payments     163065 non-null  float64\n",
      " 11  Average_Medicare_Payments  163065 non-null  float64\n",
      "dtypes: float64(3), int64(3), object(6)\n",
      "memory usage: 14.9+ MB\n"
     ]
    }
   ],
   "source": [
    "Medicare_Provider_Charge_In.info()"
   ]
  },
  {
   "cell_type": "code",
   "execution_count": 7,
   "id": "cef25f0d",
   "metadata": {},
   "outputs": [
    {
     "name": "stdout",
     "output_type": "stream",
     "text": [
      "<class 'pandas.core.frame.DataFrame'>\n",
      "RangeIndex: 43372 entries, 0 to 43371\n",
      "Data columns (total 11 columns):\n",
      " #   Column                                    Non-Null Count  Dtype  \n",
      "---  ------                                    --------------  -----  \n",
      " 0   APC                                       43372 non-null  object \n",
      " 1   Provider_Id                               43372 non-null  int64  \n",
      " 2   Provider_Name                             43372 non-null  object \n",
      " 3   Provider_Street_Address                   43372 non-null  object \n",
      " 4   Provider_City                             43372 non-null  object \n",
      " 5   Provider_State                            43372 non-null  object \n",
      " 6   Provider_Zip_Code                         43372 non-null  int64  \n",
      " 7   Hospital_Referral_Region_HRR_Description  43372 non-null  object \n",
      " 8   Outpatient_Services                       43372 non-null  int64  \n",
      " 9   Average_Estimated_Submitted_Charges       43372 non-null  float64\n",
      " 10  Average_Total_Payments                    43372 non-null  float64\n",
      "dtypes: float64(2), int64(3), object(6)\n",
      "memory usage: 3.6+ MB\n"
     ]
    }
   ],
   "source": [
    "Medicare_Provider_Charge_Out.info()"
   ]
  },
  {
   "cell_type": "markdown",
   "id": "b28f3d5d-0087-42bd-bcce-0f2de457f6ea",
   "metadata": {},
   "source": [
    "## Part 1A: Highest Cost Variation"
   ]
  },
  {
   "cell_type": "markdown",
   "id": "7e1b8cc1-a457-49a6-8500-b82c62ebb3e6",
   "metadata": {},
   "source": [
    "### INPATIENT Treatment"
   ]
  },
  {
   "cell_type": "markdown",
   "id": "b06db91e-6ed4-438e-a86e-d1e5969bbd51",
   "metadata": {},
   "source": [
    "We'll analyze cost variation based on \"Average_Covered_Charges\" (amount providers charge Medicare) for each DRG Diagnosis."
   ]
  },
  {
   "cell_type": "code",
   "execution_count": 4,
   "id": "9b2b299d-fbf3-493a-b7dc-0705cee23844",
   "metadata": {},
   "outputs": [
    {
     "data": {
      "text/html": [
       "<div>\n",
       "<style scoped>\n",
       "    .dataframe tbody tr th:only-of-type {\n",
       "        vertical-align: middle;\n",
       "    }\n",
       "\n",
       "    .dataframe tbody tr th {\n",
       "        vertical-align: top;\n",
       "    }\n",
       "\n",
       "    .dataframe thead th {\n",
       "        text-align: right;\n",
       "    }\n",
       "</style>\n",
       "<table border=\"1\" class=\"dataframe\">\n",
       "  <thead>\n",
       "    <tr style=\"text-align: right;\">\n",
       "      <th></th>\n",
       "      <th>min</th>\n",
       "      <th>max</th>\n",
       "      <th>mean</th>\n",
       "      <th>std</th>\n",
       "    </tr>\n",
       "    <tr>\n",
       "      <th>DRG_Definition</th>\n",
       "      <th></th>\n",
       "      <th></th>\n",
       "      <th></th>\n",
       "      <th></th>\n",
       "    </tr>\n",
       "  </thead>\n",
       "  <tbody>\n",
       "    <tr>\n",
       "      <th>039 - EXTRACRANIAL PROCEDURES W/O CC/MCC</th>\n",
       "      <td>5981.053711</td>\n",
       "      <td>146892.0000</td>\n",
       "      <td>30481.989332</td>\n",
       "      <td>15941.252051</td>\n",
       "    </tr>\n",
       "    <tr>\n",
       "      <th>057 - DEGENERATIVE NERVOUS SYSTEM DISORDERS W/O MCC</th>\n",
       "      <td>5617.937500</td>\n",
       "      <td>148128.4375</td>\n",
       "      <td>24307.762692</td>\n",
       "      <td>14085.285701</td>\n",
       "    </tr>\n",
       "  </tbody>\n",
       "</table>\n",
       "</div>"
      ],
      "text/plain": [
       "                                                            min          max  \\\n",
       "DRG_Definition                                                                 \n",
       "039 - EXTRACRANIAL PROCEDURES W/O CC/MCC            5981.053711  146892.0000   \n",
       "057 - DEGENERATIVE NERVOUS SYSTEM DISORDERS W/O...  5617.937500  148128.4375   \n",
       "\n",
       "                                                            mean           std  \n",
       "DRG_Definition                                                                  \n",
       "039 - EXTRACRANIAL PROCEDURES W/O CC/MCC            30481.989332  15941.252051  \n",
       "057 - DEGENERATIVE NERVOUS SYSTEM DISORDERS W/O...  24307.762692  14085.285701  "
      ]
     },
     "execution_count": 4,
     "metadata": {},
     "output_type": "execute_result"
    }
   ],
   "source": [
    "# Group by procedure and calculate min, max, and standard deviation of charges\n",
    "cost_variation = Medicare_Provider_Charge_In.groupby('DRG_Definition')['Average_Covered_Charges'].agg(['min', 'max', 'mean', 'std'])\n",
    "cost_variation.head(2)"
   ]
  },
  {
   "cell_type": "markdown",
   "id": "9033ec17-1ab6-4516-93c8-9778c2da0380",
   "metadata": {},
   "source": [
    "#### **Method 1: Absolute Variation (Max - Min) / Mean**"
   ]
  },
  {
   "cell_type": "code",
   "execution_count": 89,
   "id": "7dfcd719-4fda-436e-bc04-3a1dc8b51fd5",
   "metadata": {},
   "outputs": [
    {
     "data": {
      "text/html": [
       "<div>\n",
       "<style scoped>\n",
       "    .dataframe tbody tr th:only-of-type {\n",
       "        vertical-align: middle;\n",
       "    }\n",
       "\n",
       "    .dataframe tbody tr th {\n",
       "        vertical-align: top;\n",
       "    }\n",
       "\n",
       "    .dataframe thead th {\n",
       "        text-align: right;\n",
       "    }\n",
       "</style>\n",
       "<table border=\"1\" class=\"dataframe\">\n",
       "  <thead>\n",
       "    <tr style=\"text-align: right;\">\n",
       "      <th></th>\n",
       "      <th>min</th>\n",
       "      <th>max</th>\n",
       "      <th>mean</th>\n",
       "      <th>std</th>\n",
       "      <th>Range_Variation_Percentage</th>\n",
       "    </tr>\n",
       "    <tr>\n",
       "      <th>DRG Definition</th>\n",
       "      <th></th>\n",
       "      <th></th>\n",
       "      <th></th>\n",
       "      <th></th>\n",
       "      <th></th>\n",
       "    </tr>\n",
       "  </thead>\n",
       "  <tbody>\n",
       "    <tr>\n",
       "      <th>812 - RED BLOOD CELL DISORDERS W/O MCC</th>\n",
       "      <td>3534.000000</td>\n",
       "      <td>166362.5217</td>\n",
       "      <td>19723.333778</td>\n",
       "      <td>11059.765733</td>\n",
       "      <td>825.562877</td>\n",
       "    </tr>\n",
       "    <tr>\n",
       "      <th>885 - PSYCHOSES</th>\n",
       "      <td>2749.942857</td>\n",
       "      <td>144522.6667</td>\n",
       "      <td>19929.455817</td>\n",
       "      <td>14305.274994</td>\n",
       "      <td>711.372780</td>\n",
       "    </tr>\n",
       "    <tr>\n",
       "      <th>207 - RESPIRATORY SYSTEM DIAGNOSIS W VENTILATOR SUPPORT 96+ HOURS</th>\n",
       "      <td>29636.636360</td>\n",
       "      <td>929118.9091</td>\n",
       "      <td>143428.055060</td>\n",
       "      <td>84817.423101</td>\n",
       "      <td>627.131332</td>\n",
       "    </tr>\n",
       "    <tr>\n",
       "      <th>389 - G.I. OBSTRUCTION W CC</th>\n",
       "      <td>5007.636364</td>\n",
       "      <td>151705.5294</td>\n",
       "      <td>24565.592240</td>\n",
       "      <td>13751.815749</td>\n",
       "      <td>597.168151</td>\n",
       "    </tr>\n",
       "    <tr>\n",
       "      <th>057 - DEGENERATIVE NERVOUS SYSTEM DISORDERS W/O MCC</th>\n",
       "      <td>5617.937500</td>\n",
       "      <td>148128.4375</td>\n",
       "      <td>24307.762697</td>\n",
       "      <td>14085.285662</td>\n",
       "      <td>586.275676</td>\n",
       "    </tr>\n",
       "  </tbody>\n",
       "</table>\n",
       "</div>"
      ],
      "text/plain": [
       "                                                             min          max  \\\n",
       "DRG Definition                                                                  \n",
       "812 - RED BLOOD CELL DISORDERS W/O MCC               3534.000000  166362.5217   \n",
       "885 - PSYCHOSES                                      2749.942857  144522.6667   \n",
       "207 - RESPIRATORY SYSTEM DIAGNOSIS W VENTILATOR...  29636.636360  929118.9091   \n",
       "389 - G.I. OBSTRUCTION W CC                          5007.636364  151705.5294   \n",
       "057 - DEGENERATIVE NERVOUS SYSTEM DISORDERS W/O...   5617.937500  148128.4375   \n",
       "\n",
       "                                                             mean  \\\n",
       "DRG Definition                                                      \n",
       "812 - RED BLOOD CELL DISORDERS W/O MCC               19723.333778   \n",
       "885 - PSYCHOSES                                      19929.455817   \n",
       "207 - RESPIRATORY SYSTEM DIAGNOSIS W VENTILATOR...  143428.055060   \n",
       "389 - G.I. OBSTRUCTION W CC                          24565.592240   \n",
       "057 - DEGENERATIVE NERVOUS SYSTEM DISORDERS W/O...   24307.762697   \n",
       "\n",
       "                                                             std  \\\n",
       "DRG Definition                                                     \n",
       "812 - RED BLOOD CELL DISORDERS W/O MCC              11059.765733   \n",
       "885 - PSYCHOSES                                     14305.274994   \n",
       "207 - RESPIRATORY SYSTEM DIAGNOSIS W VENTILATOR...  84817.423101   \n",
       "389 - G.I. OBSTRUCTION W CC                         13751.815749   \n",
       "057 - DEGENERATIVE NERVOUS SYSTEM DISORDERS W/O...  14085.285662   \n",
       "\n",
       "                                                    Range_Variation_Percentage  \n",
       "DRG Definition                                                                  \n",
       "812 - RED BLOOD CELL DISORDERS W/O MCC                              825.562877  \n",
       "885 - PSYCHOSES                                                     711.372780  \n",
       "207 - RESPIRATORY SYSTEM DIAGNOSIS W VENTILATOR...                  627.131332  \n",
       "389 - G.I. OBSTRUCTION W CC                                         597.168151  \n",
       "057 - DEGENERATIVE NERVOUS SYSTEM DISORDERS W/O...                  586.275676  "
      ]
     },
     "execution_count": 89,
     "metadata": {},
     "output_type": "execute_result"
    }
   ],
   "source": [
    "cost_variation['Range_Variation_Percentage'] = ((cost_variation['max'] - cost_variation['min']) / cost_variation['mean']) * 100\n",
    "\n",
    "# Sort by highest variation (absolute method)\n",
    "cost_variation_sorted = cost_variation.sort_values(by='Range_Variation_Percentage', ascending=False)\n",
    "cost_variation_sorted.head(5)"
   ]
  },
  {
   "cell_type": "markdown",
   "id": "34a91a9d-a6b0-4494-80e1-6832c7d777c2",
   "metadata": {},
   "source": [
    "#### **Method 2: Relative Variation (Standard Deviation / Mean) - Coefficient of Variation**"
   ]
  },
  {
   "cell_type": "code",
   "execution_count": 5,
   "id": "223eec93-4920-405c-be26-14bc2e7a28e3",
   "metadata": {},
   "outputs": [
    {
     "data": {
      "text/html": [
       "<div>\n",
       "<style scoped>\n",
       "    .dataframe tbody tr th:only-of-type {\n",
       "        vertical-align: middle;\n",
       "    }\n",
       "\n",
       "    .dataframe tbody tr th {\n",
       "        vertical-align: top;\n",
       "    }\n",
       "\n",
       "    .dataframe thead th {\n",
       "        text-align: right;\n",
       "    }\n",
       "</style>\n",
       "<table border=\"1\" class=\"dataframe\">\n",
       "  <thead>\n",
       "    <tr style=\"text-align: right;\">\n",
       "      <th></th>\n",
       "      <th>min</th>\n",
       "      <th>max</th>\n",
       "      <th>mean</th>\n",
       "      <th>std</th>\n",
       "      <th>CV_Percentage</th>\n",
       "    </tr>\n",
       "    <tr>\n",
       "      <th>DRG_Definition</th>\n",
       "      <th></th>\n",
       "      <th></th>\n",
       "      <th></th>\n",
       "      <th></th>\n",
       "      <th></th>\n",
       "    </tr>\n",
       "  </thead>\n",
       "  <tbody>\n",
       "    <tr>\n",
       "      <th>885 - PSYCHOSES</th>\n",
       "      <td>2749.942871</td>\n",
       "      <td>144522.671875</td>\n",
       "      <td>19929.455790</td>\n",
       "      <td>14305.275033</td>\n",
       "      <td>71.779557</td>\n",
       "    </tr>\n",
       "    <tr>\n",
       "      <th>897 - ALCOHOL/DRUG ABUSE OR DEPENDENCE W/O REHABILITATION THERAPY W/O MCC</th>\n",
       "      <td>2536.699219</td>\n",
       "      <td>79932.539062</td>\n",
       "      <td>17589.098716</td>\n",
       "      <td>11150.914643</td>\n",
       "      <td>63.396737</td>\n",
       "    </tr>\n",
       "    <tr>\n",
       "      <th>917 - POISONING &amp; TOXIC EFFECTS OF DRUGS W MCC</th>\n",
       "      <td>6809.833496</td>\n",
       "      <td>236455.906250</td>\n",
       "      <td>40345.535841</td>\n",
       "      <td>24737.866921</td>\n",
       "      <td>61.315004</td>\n",
       "    </tr>\n",
       "    <tr>\n",
       "      <th>190 - CHRONIC OBSTRUCTIVE PULMONARY DISEASE W MCC</th>\n",
       "      <td>4744.461426</td>\n",
       "      <td>140771.703125</td>\n",
       "      <td>29140.948466</td>\n",
       "      <td>17786.867929</td>\n",
       "      <td>61.037368</td>\n",
       "    </tr>\n",
       "    <tr>\n",
       "      <th>189 - PULMONARY EDEMA &amp; RESPIRATORY FAILURE</th>\n",
       "      <td>7199.866699</td>\n",
       "      <td>169831.953125</td>\n",
       "      <td>34276.195572</td>\n",
       "      <td>20912.138154</td>\n",
       "      <td>61.010675</td>\n",
       "    </tr>\n",
       "  </tbody>\n",
       "</table>\n",
       "</div>"
      ],
      "text/plain": [
       "                                                            min  \\\n",
       "DRG_Definition                                                    \n",
       "885 - PSYCHOSES                                     2749.942871   \n",
       "897 - ALCOHOL/DRUG ABUSE OR DEPENDENCE W/O REHA...  2536.699219   \n",
       "917 - POISONING & TOXIC EFFECTS OF DRUGS W MCC      6809.833496   \n",
       "190 - CHRONIC OBSTRUCTIVE PULMONARY DISEASE W MCC   4744.461426   \n",
       "189 - PULMONARY EDEMA & RESPIRATORY FAILURE         7199.866699   \n",
       "\n",
       "                                                              max  \\\n",
       "DRG_Definition                                                      \n",
       "885 - PSYCHOSES                                     144522.671875   \n",
       "897 - ALCOHOL/DRUG ABUSE OR DEPENDENCE W/O REHA...   79932.539062   \n",
       "917 - POISONING & TOXIC EFFECTS OF DRUGS W MCC      236455.906250   \n",
       "190 - CHRONIC OBSTRUCTIVE PULMONARY DISEASE W MCC   140771.703125   \n",
       "189 - PULMONARY EDEMA & RESPIRATORY FAILURE         169831.953125   \n",
       "\n",
       "                                                            mean  \\\n",
       "DRG_Definition                                                     \n",
       "885 - PSYCHOSES                                     19929.455790   \n",
       "897 - ALCOHOL/DRUG ABUSE OR DEPENDENCE W/O REHA...  17589.098716   \n",
       "917 - POISONING & TOXIC EFFECTS OF DRUGS W MCC      40345.535841   \n",
       "190 - CHRONIC OBSTRUCTIVE PULMONARY DISEASE W MCC   29140.948466   \n",
       "189 - PULMONARY EDEMA & RESPIRATORY FAILURE         34276.195572   \n",
       "\n",
       "                                                             std  \\\n",
       "DRG_Definition                                                     \n",
       "885 - PSYCHOSES                                     14305.275033   \n",
       "897 - ALCOHOL/DRUG ABUSE OR DEPENDENCE W/O REHA...  11150.914643   \n",
       "917 - POISONING & TOXIC EFFECTS OF DRUGS W MCC      24737.866921   \n",
       "190 - CHRONIC OBSTRUCTIVE PULMONARY DISEASE W MCC   17786.867929   \n",
       "189 - PULMONARY EDEMA & RESPIRATORY FAILURE         20912.138154   \n",
       "\n",
       "                                                    CV_Percentage  \n",
       "DRG_Definition                                                     \n",
       "885 - PSYCHOSES                                         71.779557  \n",
       "897 - ALCOHOL/DRUG ABUSE OR DEPENDENCE W/O REHA...      63.396737  \n",
       "917 - POISONING & TOXIC EFFECTS OF DRUGS W MCC          61.315004  \n",
       "190 - CHRONIC OBSTRUCTIVE PULMONARY DISEASE W MCC       61.037368  \n",
       "189 - PULMONARY EDEMA & RESPIRATORY FAILURE             61.010675  "
      ]
     },
     "execution_count": 5,
     "metadata": {},
     "output_type": "execute_result"
    }
   ],
   "source": [
    "cost_variation['CV_Percentage'] = (cost_variation['std'] / cost_variation['mean']) * 100\n",
    "\n",
    "# Sort by highest variation (Relative method)\n",
    "cost_variation_sorted = cost_variation.sort_values(by='CV_Percentage', ascending=False)\n",
    "cost_variation_sorted.head(5)"
   ]
  },
  {
   "cell_type": "raw",
   "id": "70774bf3-f8f0-43ce-bd2c-2bb8dbb2a58b",
   "metadata": {},
   "source": [
    "✅ Use (Max - Min) / Mean : if you want to catch extreme cases where some providers overcharge massively.\n",
    "✅ Use Standard Deviation / Mean : if you want to measure overall cost inconsistency across all providers."
   ]
  },
  {
   "cell_type": "markdown",
   "id": "11348a4a-80a0-41ee-9cd1-967bf127fc4e",
   "metadata": {},
   "source": [
    "#### OUTPATIENT Treatment"
   ]
  },
  {
   "cell_type": "code",
   "execution_count": 11,
   "id": "0d5bd8d1-46ee-4d04-80b1-b43010f21d17",
   "metadata": {},
   "outputs": [],
   "source": [
    "cost_variation_out = Medicare_Provider_Charge_Out.groupby('APC')['Average_Estimated_Submitted_Charges'].agg(['min', 'max', 'mean', 'std'])"
   ]
  },
  {
   "cell_type": "markdown",
   "id": "e3e46224-8e9a-4074-9abd-b8b536ea84e0",
   "metadata": {},
   "source": [
    "#### **Method 1: Absolute Variation**"
   ]
  },
  {
   "cell_type": "code",
   "execution_count": 103,
   "id": "81fb5a96-dffd-4fe1-9feb-11efa0ef4c9a",
   "metadata": {},
   "outputs": [
    {
     "data": {
      "text/plain": [
       "APC\n",
       "0604 - Level 1 Hospital Clinic Visits             5732.175686\n",
       "0013 - Level II Debridement & Destruction         1970.291482\n",
       "0698 - Level II Eye Tests & Treatments            1642.126655\n",
       "0692 - Level II Electronic Analysis of Devices    1274.364360\n",
       "0078 - Level III Pulmonary Treatment              1180.307495\n",
       "Name: Range_Variation_Percentage, dtype: float64"
      ]
     },
     "execution_count": 103,
     "metadata": {},
     "output_type": "execute_result"
    }
   ],
   "source": [
    "cost_variation_out['Range_Variation_Percentage'] = ((cost_variation_out['max'] - cost_variation_out['min']) / cost_variation_out['mean']) * 100\n",
    "\n",
    "# Sort by highest variation (absolute method)\n",
    "cost_variation_out_sorted = cost_variation_out.sort_values(by='Range_Variation_Percentage', ascending=False)\n",
    "cost_variation_out_sorted['Range_Variation_Percentage'].head(5)"
   ]
  },
  {
   "cell_type": "markdown",
   "id": "0e5844a4-d7f1-4bee-a84a-1381d8612b68",
   "metadata": {},
   "source": [
    "#### **Method 2: Relative Variation - Coefficient of Variation**"
   ]
  },
  {
   "cell_type": "code",
   "execution_count": 105,
   "id": "aa748a85-f6f8-429a-8986-50b053c62c5d",
   "metadata": {},
   "outputs": [
    {
     "data": {
      "text/plain": [
       "APC\n",
       "0604 - Level 1 Hospital Clinic Visits             138.514954\n",
       "0698 - Level II Eye Tests & Treatments            131.044419\n",
       "0019 - Level I Excision/ Biopsy                   122.989724\n",
       "0692 - Level II Electronic Analysis of Devices    112.816644\n",
       "0012 - Level I Debridement & Destruction          105.008711\n",
       "Name: CV_Percentage, dtype: float64"
      ]
     },
     "execution_count": 105,
     "metadata": {},
     "output_type": "execute_result"
    }
   ],
   "source": [
    "cost_variation_out['CV_Percentage'] = (cost_variation_out['std'] / cost_variation_out['mean']) * 100\n",
    "\n",
    "# Sort by highest variation (relative method)\n",
    "cost_variation_out_sorted = cost_variation_out.sort_values(by='CV_Percentage', ascending=False)\n",
    "cost_variation_out_sorted['CV_Percentage'].head(5)"
   ]
  },
  {
   "cell_type": "markdown",
   "id": "45b32cd2-6406-4074-a766-bb5e3e5d51ea",
   "metadata": {},
   "source": [
    "### Parts 1B & 1C: Highest-Cost Claims by Provider & Region"
   ]
  },
  {
   "cell_type": "code",
   "execution_count": 109,
   "id": "51de8ee2-8518-4616-a9f2-ae8c31a65e33",
   "metadata": {},
   "outputs": [],
   "source": [
    "# Standardize column names (remove spaces)\n",
    "Medicare_Provider_Charge_In.columns = Medicare_Provider_Charge_In.columns.str.strip().str.replace(' ', '_')\n",
    "Medicare_Provider_Charge_Out.columns = Medicare_Provider_Charge_Out.columns.str.strip().str.replace(' ', '_')"
   ]
  },
  {
   "cell_type": "code",
   "execution_count": 113,
   "id": "68f30a5c-8224-41ee-8b8d-73d42fcb159d",
   "metadata": {},
   "outputs": [
    {
     "data": {
      "text/plain": [
       "Index(['DRG_Definition', 'Provider_Id', 'Provider_Name',\n",
       "       'Provider_Street_Address', 'Provider_City', 'Provider_State',\n",
       "       'Provider_Zip_Code', 'Hospital_Referral_Region_(HRR)_Description',\n",
       "       'Total_Discharges', 'Average_Covered_Charges', 'Average_Total_Payments',\n",
       "       'Average_Medicare_Payments'],\n",
       "      dtype='object')"
      ]
     },
     "execution_count": 113,
     "metadata": {},
     "output_type": "execute_result"
    }
   ],
   "source": [
    "Medicare_Provider_Charge_In.columns"
   ]
  },
  {
   "cell_type": "code",
   "execution_count": 115,
   "id": "5d9370dc-c464-41c3-9034-8685552a05ac",
   "metadata": {},
   "outputs": [
    {
     "data": {
      "text/plain": [
       "Index(['APC', 'Provider_Id', 'Provider_Name', 'Provider_Street_Address',\n",
       "       'Provider_City', 'Provider_State', 'Provider_Zip_Code',\n",
       "       'Hospital_Referral_Region_(HRR)_Description', 'Outpatient_Services',\n",
       "       'Average__Estimated_Submitted_Charges', 'Average_Total_Payments'],\n",
       "      dtype='object')"
      ]
     },
     "execution_count": 115,
     "metadata": {},
     "output_type": "execute_result"
    }
   ],
   "source": [
    "Medicare_Provider_Charge_Out.columns"
   ]
  },
  {
   "cell_type": "code",
   "execution_count": 121,
   "id": "ae8c4935-652c-4d33-95a8-c21dadfa58f8",
   "metadata": {},
   "outputs": [
    {
     "name": "stdout",
     "output_type": "stream",
     "text": [
      "Top 5 Highest-Cost Inpatient Providers:\n",
      "      Provider_Id                  Provider_Name  Total_Charges\n",
      "2531       390180  CROZER CHESTER MEDICAL CENTER   1.330169e+07\n",
      "453         50625    CEDARS-SINAI MEDICAL CENTER   1.227909e+07\n",
      "395         50441              STANFORD HOSPITAL   1.207722e+07\n",
      "306         50195            WASHINGTON HOSPITAL   1.052081e+07\n",
      "401         50464         DOCTORS MEDICAL CENTER   1.012871e+07\n",
      "\n",
      "Top 5 Highest-Cost Outpatient Providers:\n",
      "      Provider_Id                     Provider_Name  Total_Charges\n",
      "414         50625       CEDARS-SINAI MEDICAL CENTER   99045.006822\n",
      "655        100223  FORT WALTON BEACH MEDICAL CENTER   84200.262382\n",
      "2360       390180     CROZER CHESTER MEDICAL CENTER   78892.060526\n",
      "75          10131          CRESTWOOD MEDICAL CENTER   77658.405644\n",
      "365         50441                 STANFORD HOSPITAL   75427.658276\n"
     ]
    }
   ],
   "source": [
    "# **1. Inpatient Providers: Total Charges per Provider**\n",
    "inpatient_provider_charges = Medicare_Provider_Charge_In.groupby(['Provider_Id', 'Provider_Name'])['Average_Covered_Charges'].sum().reset_index()\n",
    "inpatient_provider_charges.rename(columns={'Average_Covered_Charges': 'Total_Charges'}, inplace=True)\n",
    "\n",
    "# **2. Outpatient Providers: Total Charges per Provider**\n",
    "outpatient_provider_charges = Medicare_Provider_Charge_Out.groupby(['Provider_Id', 'Provider_Name'])['Average__Estimated_Submitted_Charges'].sum().reset_index()\n",
    "outpatient_provider_charges.rename(columns={'Average__Estimated_Submitted_Charges': 'Total_Charges'}, inplace=True)\n",
    "\n",
    "# **Sort both inpatient and outpatient providers by total charges**\n",
    "top_inpatient_providers = inpatient_provider_charges.sort_values(by='Total_Charges', ascending=False).head(5)\n",
    "top_outpatient_providers = outpatient_provider_charges.sort_values(by='Total_Charges', ascending=False).head(5)\n",
    "\n",
    "# **Display Results**\n",
    "print(\"Top 5 Highest-Cost Inpatient Providers:\")\n",
    "print(top_inpatient_providers)\n",
    "\n",
    "print(\"\\nTop 5 Highest-Cost Outpatient Providers:\")\n",
    "print(top_outpatient_providers)\n"
   ]
  },
  {
   "cell_type": "markdown",
   "id": "6884fbdd-63ac-4dda-a41f-40ac756ccd5f",
   "metadata": {},
   "source": [
    "## Method 2 : For INPATIENT"
   ]
  },
  {
   "cell_type": "code",
   "execution_count": 128,
   "id": "825e0f90-82f5-4203-924c-d60d8b377e0c",
   "metadata": {},
   "outputs": [
    {
     "name": "stdout",
     "output_type": "stream",
     "text": [
      "Top 5 Providers with Highest Charges:\n",
      "                      Provider_Name  Max_Charge_Count\n",
      "202         BAYONNE HOSPITAL CENTER                23\n",
      "590   CROZER CHESTER MEDICAL CENTER                11\n",
      "2730              STANFORD HOSPITAL                10\n",
      "982   HAHNEMANN UNIVERSITY HOSPITAL                 7\n",
      "661          DOCTORS MEDICAL CENTER                 5\n",
      "\n",
      "Top 5 Regions with Highest Charges:\n",
      "    Hospital_Referral_Region_(HRR)_Description  Max_Charge_Count\n",
      "191                                NJ - Newark                25\n",
      "232                          PA - Philadelphia                23\n",
      "34                       CA - San Mateo County                13\n",
      "19                    CA - Contra Costa County                 6\n",
      "16                         CA - Alameda County                 5\n"
     ]
    }
   ],
   "source": [
    "# **Step 1: Find Max Charge for Each Procedure (DRG)**\n",
    "max_charges_per_DRG = Medicare_Provider_Charge_In.groupby('DRG_Definition')['Average_Covered_Charges'].max().reset_index()\n",
    "max_charges_per_DRG.rename(columns={'Average_Covered_Charges': 'Max_Average_Covered_Charges'}, inplace=True)\n",
    "\n",
    "# **Step 2: Merge with Original Data**\n",
    "merged_inpatient = Medicare_Provider_Charge_In.merge(max_charges_per_DRG, on='DRG_Definition', how='left')\n",
    "\n",
    "# **Step 3: Identify Providers with Max Charge**\n",
    "merged_inpatient['Is_Max_Charge'] = merged_inpatient['Average_Covered_Charges'] == merged_inpatient['Max_Average_Covered_Charges']\n",
    "\n",
    "# **Step 4: Count How Many Times Each Provider Had Max Charge**\n",
    "provider_max_count = merged_inpatient.groupby('Provider_Name')['Is_Max_Charge'].sum().reset_index()\n",
    "provider_max_count.rename(columns={'Is_Max_Charge': 'Max_Charge_Count'}, inplace=True)\n",
    "\n",
    "# **Step 5: Count How Many Times Each Region Had Max Charge**\n",
    "region_max_count = merged_inpatient.groupby('Hospital_Referral_Region_(HRR)_Description')['Is_Max_Charge'].sum().reset_index()\n",
    "region_max_count.rename(columns={'Is_Max_Charge': 'Max_Charge_Count'}, inplace=True)\n",
    "\n",
    "# **Step 6: Get Top 3 Providers and Top 5 Regions**\n",
    "top_3_providers = provider_max_count.nlargest(5, 'Max_Charge_Count')\n",
    "top_5_regions = region_max_count.nlargest(5, 'Max_Charge_Count')\n",
    "\n",
    "# **Display Results**\n",
    "print(\"Top 5 Providers with Highest Charges:\")\n",
    "print(top_3_providers)\n",
    "\n",
    "print(\"\\nTop 5 Regions with Highest Charges:\")\n",
    "print(top_5_regions)\n"
   ]
  },
  {
   "cell_type": "markdown",
   "id": "c08093e8-cf44-4a4f-ae17-71d62ca082f3",
   "metadata": {},
   "source": [
    "## For OUTPATIENT"
   ]
  },
  {
   "cell_type": "code",
   "execution_count": 131,
   "id": "0a64a4aa-f2bf-4613-9469-f2d01e622f29",
   "metadata": {},
   "outputs": [
    {
     "name": "stdout",
     "output_type": "stream",
     "text": [
      "Top 5 Outpatient Providers with Highest Charges:\n",
      "                                Provider_Name  Max_Charge_Count\n",
      "327  CAPITAL HEALTH MEDICAL CENTER - HOPEWELL                 2\n",
      "484                         COLUMBIA HOSPITAL                 2\n",
      "799          FORT WALTON BEACH MEDICAL CENTER                 2\n",
      "228              BEVERLY HOSPITAL CORPORATION                 1\n",
      "372         CENTINELA HOSPITAL MEDICAL CENTER                 1\n",
      "\n",
      "Top 5 Outpatient Regions with Highest Charges:\n",
      "    Hospital_Referral_Region_(HRR)_Description  Max_Charge_Count\n",
      "230                          PA - Philadelphia                 5\n",
      "21                            CA - Los Angeles                 3\n",
      "24                          CA - Orange County                 2\n",
      "54                        FL - Fort Lauderdale                 2\n",
      "65                              FL - Pensacola                 2\n"
     ]
    }
   ],
   "source": [
    "# **Step 1: Find Max Charge for Each Procedure (APC)**\n",
    "max_charges_per_APC = Medicare_Provider_Charge_Out.groupby('APC')['Average__Estimated_Submitted_Charges'].max().reset_index()\n",
    "max_charges_per_APC.rename(columns={'Average__Estimated_Submitted_Charges': 'Max_Average_Submitted_Charges'}, inplace=True)\n",
    "\n",
    "# **Step 2: Merge with Original Data**\n",
    "merged_outpatient = Medicare_Provider_Charge_Out.merge(max_charges_per_APC, on='APC', how='left')\n",
    "\n",
    "# **Step 3: Identify Providers with Max Charge**\n",
    "merged_outpatient['Is_Max_Charge'] = merged_outpatient['Average__Estimated_Submitted_Charges'] == merged_outpatient['Max_Average_Submitted_Charges']\n",
    "\n",
    "# **Step 4: Count How Many Times Each Provider Had Max Charge**\n",
    "provider_max_count_out = merged_outpatient.groupby('Provider_Name')['Is_Max_Charge'].sum().reset_index()\n",
    "provider_max_count_out.rename(columns={'Is_Max_Charge': 'Max_Charge_Count'}, inplace=True)\n",
    "\n",
    "# **Step 5: Count How Many Times Each Region Had Max Charge**\n",
    "region_max_count_out = merged_outpatient.groupby('Hospital_Referral_Region_(HRR)_Description')['Is_Max_Charge'].sum().reset_index()\n",
    "region_max_count_out.rename(columns={'Is_Max_Charge': 'Max_Charge_Count'}, inplace=True)\n",
    "\n",
    "# **Step 6: Get Top 5 Providers and Top 5 Regions**\n",
    "top_3_providers_out = provider_max_count_out.nlargest(5, 'Max_Charge_Count')\n",
    "top_5_regions_out = region_max_count_out.nlargest(5, 'Max_Charge_Count')\n",
    "\n",
    "# **Display Results**\n",
    "print(\"Top 5 Outpatient Providers with Highest Charges:\")\n",
    "print(top_3_providers_out)\n",
    "\n",
    "print(\"\\nTop 5 Outpatient Regions with Highest Charges:\")\n",
    "print(top_5_regions_out)\n"
   ]
  },
  {
   "cell_type": "markdown",
   "id": "86784f90-8b5b-4a4d-9659-62b8c710dead",
   "metadata": {},
   "source": [
    "### Part 1D: Highest Number of Procedures and Largest Differences between Claims and Reimbursements"
   ]
  },
  {
   "cell_type": "markdown",
   "id": "0543737f-f6f5-457b-89ae-20a2c80472be",
   "metadata": {},
   "source": [
    "### INPATIENT"
   ]
  },
  {
   "cell_type": "code",
   "execution_count": 12,
   "id": "d96131a2-3ce0-4677-9c87-0281177d6be5",
   "metadata": {},
   "outputs": [
    {
     "name": "stdout",
     "output_type": "stream",
     "text": [
      "Top 3 Providers with Highest Claim Differences:\n",
      "                     Provider_Name  Max_Claim_Diff_Count\n",
      "202        BAYONNE HOSPITAL CENTER                    27\n",
      "590  CROZER CHESTER MEDICAL CENTER                    12\n",
      "982  HAHNEMANN UNIVERSITY HOSPITAL                     8\n"
     ]
    }
   ],
   "source": [
    "# **Step 1: Calculate the Difference Between Claims and Reimbursements**\n",
    "Medicare_Provider_Charge_In['Claim_Difference'] = Medicare_Provider_Charge_In['Average_Covered_Charges'] - Medicare_Provider_Charge_In['Average_Total_Payments']\n",
    "\n",
    "# **Step 2: Calculate the Mean and Max Claim Difference by DRG Definition**\n",
    "mean_claim_diff_by_DRG = Medicare_Provider_Charge_In.groupby('DRG_Definition')['Claim_Difference'].mean().reset_index()\n",
    "max_claim_diff_by_DRG = Medicare_Provider_Charge_In.groupby('DRG_Definition')['Claim_Difference'].max().reset_index()\n",
    "\n",
    "# **Step 3: Merge the Mean and Max Values with the Original Data**\n",
    "merged_inpatient = Medicare_Provider_Charge_In.merge(mean_claim_diff_by_DRG, on='DRG_Definition', how='left', suffixes=('', '_Mean'))\n",
    "merged_inpatient = merged_inpatient.merge(max_claim_diff_by_DRG, on='DRG_Definition', how='left', suffixes=('', '_Max'))\n",
    "\n",
    "# **Step 4: Identify Providers and Regions with the Largest Differences**\n",
    "merged_inpatient['Is_Max_Claim_Difference'] = merged_inpatient['Claim_Difference'] == merged_inpatient['Claim_Difference_Max']\n",
    "merged_inpatient['Is_Max_Claim_Difference_Mean'] = merged_inpatient['Claim_Difference'] == merged_inpatient['Claim_Difference_Mean']\n",
    "\n",
    "# **Step 5: Count How Many Times Providers Have the Max Claim Difference**\n",
    "provider_max_diff_count = merged_inpatient.groupby('Provider_Name')['Is_Max_Claim_Difference'].sum().reset_index()\n",
    "provider_max_diff_count.rename(columns={'Is_Max_Claim_Difference': 'Max_Claim_Diff_Count'}, inplace=True)\n",
    "\n",
    "# **Step 6: Get Top Providers with Max Differences**\n",
    "top_3_providers_max_diff = provider_max_diff_count.nlargest(3, 'Max_Claim_Diff_Count')\n",
    "\n",
    "# **Display Results**\n",
    "print(\"Top 3 Providers with Highest Claim Differences:\")\n",
    "print(top_3_providers_max_diff)\n"
   ]
  },
  {
   "cell_type": "markdown",
   "id": "6832b57d-e9b1-4cb7-b52a-9d4493bf9479",
   "metadata": {},
   "source": [
    "### OUTPATIENT"
   ]
  },
  {
   "cell_type": "code",
   "execution_count": 145,
   "id": "c9fc2568-a0ee-46af-918c-45538684718a",
   "metadata": {},
   "outputs": [
    {
     "name": "stdout",
     "output_type": "stream",
     "text": [
      "Top 3 Providers with Highest Claim Differences (Outpatient):\n",
      "                                Provider_Name  Max_Claim_Diff_Count\n",
      "327  CAPITAL HEALTH MEDICAL CENTER - HOPEWELL                     2\n",
      "484                         COLUMBIA HOSPITAL                     2\n",
      "799          FORT WALTON BEACH MEDICAL CENTER                     2\n"
     ]
    }
   ],
   "source": [
    "# **Step 1: Calculate the Difference Between Claims and Reimbursements**\n",
    "Medicare_Provider_Charge_Out['Claim_Difference'] = Medicare_Provider_Charge_Out['Average__Estimated_Submitted_Charges'] - Medicare_Provider_Charge_Out['Average_Total_Payments']\n",
    "\n",
    "# **Step 2: Calculate the Mean and Max Claim Difference by APC**\n",
    "mean_claim_diff_by_APC = Medicare_Provider_Charge_Out.groupby('APC')['Claim_Difference'].mean().reset_index()\n",
    "max_claim_diff_by_APC = Medicare_Provider_Charge_Out.groupby('APC')['Claim_Difference'].max().reset_index()\n",
    "\n",
    "# **Step 3: Merge the Mean and Max Values with the Original Data**\n",
    "merged_outpatient = Medicare_Provider_Charge_Out.merge(mean_claim_diff_by_APC, on='APC', how='left', suffixes=('', '_Mean'))\n",
    "merged_outpatient = merged_outpatient.merge(max_claim_diff_by_APC, on='APC', how='left', suffixes=('', '_Max'))\n",
    "\n",
    "# **Step 4: Identify Providers and Regions with the Largest Differences**\n",
    "merged_outpatient['Is_Max_Claim_Difference'] = merged_outpatient['Claim_Difference'] == merged_outpatient['Claim_Difference_Max']\n",
    "merged_outpatient['Is_Max_Claim_Difference_Mean'] = merged_outpatient['Claim_Difference'] == merged_outpatient['Claim_Difference_Mean']\n",
    "\n",
    "# **Step 5: Count How Many Times Providers Have the Max Claim Difference**\n",
    "provider_max_diff_count_out = merged_outpatient.groupby('Provider_Name')['Is_Max_Claim_Difference'].sum().reset_index()\n",
    "provider_max_diff_count_out.rename(columns={'Is_Max_Claim_Difference': 'Max_Claim_Diff_Count'}, inplace=True)\n",
    "\n",
    "# **Step 6: Get Top Providers with Max Differences**\n",
    "top_3_providers_max_diff_out = provider_max_diff_count_out.nlargest(3, 'Max_Claim_Diff_Count')\n",
    "\n",
    "# **Display Results**\n",
    "print(\"Top 3 Providers with Highest Claim Differences (Outpatient):\")\n",
    "print(top_3_providers_max_diff_out)\n"
   ]
  }
 ],
 "metadata": {
  "kernelspec": {
   "display_name": "Python 3",
   "language": "python",
   "name": "python3"
  },
  "language_info": {
   "codemirror_mode": {
    "name": "ipython",
    "version": 3
   },
   "file_extension": ".py",
   "mimetype": "text/x-python",
   "name": "python",
   "nbconvert_exporter": "python",
   "pygments_lexer": "ipython3",
   "version": "3.10.6"
  }
 },
 "nbformat": 4,
 "nbformat_minor": 5
}
